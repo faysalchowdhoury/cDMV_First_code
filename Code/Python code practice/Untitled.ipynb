{
 "cells": [
  {
   "cell_type": "code",
   "execution_count": 1,
   "id": "fc5b1313",
   "metadata": {},
   "outputs": [],
   "source": [
    "import pandas as pd\n",
    "import random\n",
    "\n"
   ]
  },
  {
   "cell_type": "code",
   "execution_count": 2,
   "id": "5074cc36",
   "metadata": {},
   "outputs": [],
   "source": [
    "# Read the CSV file\n",
    "df = pd.read_csv('practice 1.csv', header=None, names=['Name', 'Type'])\n",
    "\n"
   ]
  },
  {
   "cell_type": "code",
   "execution_count": 3,
   "id": "56dd0d68",
   "metadata": {},
   "outputs": [],
   "source": [
    "# Get the unique names and jobs from the CSV\n",
    "names = df['Name'].unique()\n",
    "type = df['Type'].unique()\n",
    "\n"
   ]
  },
  {
   "cell_type": "code",
   "execution_count": 4,
   "id": "67764b75",
   "metadata": {},
   "outputs": [],
   "source": [
    "# Create a dictionary to store the assigned jobs\n",
    "assigned_type = {}\n",
    "\n"
   ]
  },
  {
   "cell_type": "code",
   "execution_count": 5,
   "id": "6b90a2c0",
   "metadata": {},
   "outputs": [],
   "source": [
    "# Assign distinct type to each name\n",
    "for name in names:\n",
    "    assigned_type[name] = random.choice(type)\n",
    "    type = type[type != assigned_type[name]]  # Remove the assigned job from the list\n",
    "\n"
   ]
  },
  {
   "cell_type": "code",
   "execution_count": 6,
   "id": "094cbe42",
   "metadata": {},
   "outputs": [],
   "source": [
    "# Create a DataFrame with two columns: Name and Type\n",
    "df_output = pd.DataFrame({'Name': names, 'Type': [assigned_type[name] for name in names]})\n",
    "\n"
   ]
  },
  {
   "cell_type": "code",
   "execution_count": 7,
   "id": "494389fa",
   "metadata": {},
   "outputs": [
    {
     "name": "stdout",
     "output_type": "stream",
     "text": [
      "                       Name    Type\n",
      "0                      Name    Type\n",
      "1                  Gasoline     Unk\n",
      "2                     Other   Heavy\n",
      "3  Diesel and Diesel Hybrid  Light \n",
      "4               Natural Gas     NaN\n",
      "5           Hybrid Gasoline     NaN\n",
      "6                 Flex-Fuel     NaN\n",
      "7          Battery Electric     NaN\n",
      "8            Plug-in Hybrid     NaN\n",
      "9        Hydrogen Fuel Cell     NaN\n"
     ]
    }
   ],
   "source": [
    "# Print the resulting table\n",
    "print(df_output)"
   ]
  },
  {
   "cell_type": "code",
   "execution_count": 8,
   "id": "9a13406c",
   "metadata": {},
   "outputs": [
    {
     "ename": "NameError",
     "evalue": "name 'Name' is not defined",
     "output_type": "error",
     "traceback": [
      "\u001b[1;31m---------------------------------------------------------------------------\u001b[0m",
      "\u001b[1;31mNameError\u001b[0m                                 Traceback (most recent call last)",
      "\u001b[1;32m~\\AppData\\Local\\Temp\\ipykernel_28328\\3843522318.py\u001b[0m in \u001b[0;36m<module>\u001b[1;34m\u001b[0m\n\u001b[0;32m      1\u001b[0m \u001b[1;31m# Assign 3 Type to each person\u001b[0m\u001b[1;33m\u001b[0m\u001b[1;33m\u001b[0m\u001b[0m\n\u001b[1;32m----> 2\u001b[1;33m \u001b[1;32mfor\u001b[0m \u001b[0mName\u001b[0m \u001b[1;32min\u001b[0m \u001b[0mName\u001b[0m\u001b[1;33m:\u001b[0m\u001b[1;33m\u001b[0m\u001b[1;33m\u001b[0m\u001b[0m\n\u001b[0m\u001b[0;32m      3\u001b[0m     \u001b[0mName_Type\u001b[0m \u001b[1;33m=\u001b[0m \u001b[0mrandom\u001b[0m\u001b[1;33m.\u001b[0m\u001b[0msample\u001b[0m\u001b[1;33m(\u001b[0m\u001b[0mType\u001b[0m\u001b[1;33m,\u001b[0m \u001b[1;36m3\u001b[0m\u001b[1;33m)\u001b[0m\u001b[1;33m\u001b[0m\u001b[1;33m\u001b[0m\u001b[0m\n\u001b[0;32m      4\u001b[0m     \u001b[0mdata\u001b[0m\u001b[1;33m.\u001b[0m\u001b[0mextend\u001b[0m\u001b[1;33m(\u001b[0m\u001b[1;33m[\u001b[0m\u001b[1;33m[\u001b[0m\u001b[0mName\u001b[0m\u001b[1;33m,\u001b[0m \u001b[0mType\u001b[0m\u001b[1;33m]\u001b[0m \u001b[1;32mfor\u001b[0m \u001b[0mType\u001b[0m \u001b[1;32min\u001b[0m \u001b[0mName_Type\u001b[0m\u001b[1;33m]\u001b[0m\u001b[1;33m)\u001b[0m\u001b[1;33m\u001b[0m\u001b[1;33m\u001b[0m\u001b[0m\n\u001b[0;32m      5\u001b[0m \u001b[1;33m\u001b[0m\u001b[0m\n",
      "\u001b[1;31mNameError\u001b[0m: name 'Name' is not defined"
     ]
    }
   ],
   "source": [
    "# Assign 3 Type to each person\n",
    "for Name in Name:\n",
    "    Name_Type = random.sample(Type, 3)\n",
    "    data.extend([[Name, Type] for Type in Name_Type])\n",
    "\n"
   ]
  },
  {
   "cell_type": "code",
   "execution_count": null,
   "id": "4b7ad2d8",
   "metadata": {},
   "outputs": [],
   "source": []
  }
 ],
 "metadata": {
  "kernelspec": {
   "display_name": "Python 3 (ipykernel)",
   "language": "python",
   "name": "python3"
  },
  "language_info": {
   "codemirror_mode": {
    "name": "ipython",
    "version": 3
   },
   "file_extension": ".py",
   "mimetype": "text/x-python",
   "name": "python",
   "nbconvert_exporter": "python",
   "pygments_lexer": "ipython3",
   "version": "3.9.13"
  }
 },
 "nbformat": 4,
 "nbformat_minor": 5
}
