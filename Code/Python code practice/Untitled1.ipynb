{
 "cells": [
  {
   "cell_type": "code",
   "execution_count": 1,
   "id": "c9d0d08c",
   "metadata": {},
   "outputs": [
    {
     "name": "stdout",
     "output_type": "stream",
     "text": [
      "                      Person    Job\n",
      "0                   Gasoline    Unk\n",
      "1                   Gasoline  Light\n",
      "2                   Gasoline  Heavy\n",
      "3                      Other  Heavy\n",
      "4                      Other    Unk\n",
      "5                      Other  Light\n",
      "6   Diesel and Diesel Hybrid    Unk\n",
      "7   Diesel and Diesel Hybrid  Heavy\n",
      "8   Diesel and Diesel Hybrid  Light\n",
      "9                Natural Gas    Unk\n",
      "10               Natural Gas  Light\n",
      "11               Natural Gas  Heavy\n",
      "12           Hybrid Gasoline  Heavy\n",
      "13           Hybrid Gasoline    Unk\n",
      "14           Hybrid Gasoline  Light\n",
      "15                 Flex-Fuel  Heavy\n",
      "16                 Flex-Fuel    Unk\n",
      "17                 Flex-Fuel  Light\n",
      "18          Battery Electric  Light\n",
      "19          Battery Electric  Heavy\n",
      "20          Battery Electric    Unk\n",
      "21            Plug-in Hybrid  Light\n",
      "22            Plug-in Hybrid    Unk\n",
      "23            Plug-in Hybrid  Heavy\n",
      "24        Hydrogen Fuel Cell  Light\n",
      "25        Hydrogen Fuel Cell  Heavy\n",
      "26        Hydrogen Fuel Cell    Unk\n"
     ]
    }
   ],
   "source": [
    "import pandas as pd\n",
    "import random\n",
    "\n",
    "# List of persons and types of jobs\n",
    "persons = ['Gasoline', 'Other', 'Diesel and Diesel Hybrid', 'Natural Gas',\n",
    "       'Hybrid Gasoline', 'Flex-Fuel', 'Battery Electric',\n",
    "       'Plug-in Hybrid', 'Hydrogen Fuel Cell']\n",
    "jobs = ['Light', 'Heavy', 'Unk']\n",
    "\n",
    "# Create an empty list to store the data\n",
    "data = []\n",
    "\n",
    "# Assign 5 jobs to each person\n",
    "for person in persons:\n",
    "    person_jobs = random.sample(jobs, 3)\n",
    "    data.extend([[person, job] for job in person_jobs])\n",
    "\n",
    "# Create a DataFrame\n",
    "df = pd.DataFrame(data, columns=['Person', 'Job'])\n",
    "\n",
    "# Print the table\n",
    "print(df)"
   ]
  },
  {
   "cell_type": "code",
   "execution_count": 2,
   "id": "d69e444b",
   "metadata": {},
   "outputs": [
    {
     "name": "stdout",
     "output_type": "stream",
     "text": [
      "                      Person    Job\n",
      "0                   Gasoline    Unk\n",
      "1                   Gasoline  Light\n",
      "2                   Gasoline  Heavy\n",
      "3                      Other  Heavy\n",
      "4                      Other    Unk\n",
      "5                      Other  Light\n",
      "6   Diesel and Diesel Hybrid    Unk\n",
      "7   Diesel and Diesel Hybrid  Heavy\n",
      "8   Diesel and Diesel Hybrid  Light\n",
      "9                Natural Gas    Unk\n",
      "10               Natural Gas  Light\n",
      "11               Natural Gas  Heavy\n",
      "12           Hybrid Gasoline  Heavy\n",
      "13           Hybrid Gasoline    Unk\n",
      "14           Hybrid Gasoline  Light\n",
      "15                 Flex-Fuel  Heavy\n",
      "16                 Flex-Fuel    Unk\n",
      "17                 Flex-Fuel  Light\n",
      "18          Battery Electric  Light\n",
      "19          Battery Electric  Heavy\n",
      "20          Battery Electric    Unk\n",
      "21            Plug-in Hybrid  Light\n",
      "22            Plug-in Hybrid    Unk\n",
      "23            Plug-in Hybrid  Heavy\n",
      "24        Hydrogen Fuel Cell  Light\n",
      "25        Hydrogen Fuel Cell  Heavy\n",
      "26        Hydrogen Fuel Cell    Unk\n"
     ]
    }
   ],
   "source": [
    "# Assign 5 jobs to each person\n",
    "job_index = 0\n",
    "for person in persons:\n",
    "    for _ in range(0):\n",
    "        job = jobs[job_index]\n",
    "        data.append([person, job])\n",
    "        job_index = (job_index + 1) % len(jobs)  # Increment job index, looping back to the start if necessary\n",
    "\n",
    "# Create a DataFrame\n",
    "df = pd.DataFrame(data, columns=['Person', 'Job'])\n",
    "\n",
    "# Print the table\n",
    "print(df)"
   ]
  },
  {
   "cell_type": "code",
   "execution_count": 3,
   "id": "d60ab452",
   "metadata": {},
   "outputs": [],
   "source": [
    "# Create a DataFrame\n",
    "df = pd.DataFrame(data, columns=['Person', 'Job'])\n",
    "\n",
    "# Save the DataFrame as an Excel file\n",
    "df.to_excel('output1.xlsx', index=False)"
   ]
  },
  {
   "cell_type": "code",
   "execution_count": 4,
   "id": "b879795d",
   "metadata": {},
   "outputs": [
    {
     "name": "stdout",
     "output_type": "stream",
     "text": [
      "                      Person    Job\n",
      "0                   Gasoline    Unk\n",
      "1                   Gasoline  Light\n",
      "2                   Gasoline  Heavy\n",
      "3                      Other  Heavy\n",
      "4                      Other    Unk\n",
      "5                      Other  Light\n",
      "6   Diesel and Diesel Hybrid    Unk\n",
      "7   Diesel and Diesel Hybrid  Heavy\n",
      "8   Diesel and Diesel Hybrid  Light\n",
      "9                Natural Gas    Unk\n",
      "10               Natural Gas  Light\n",
      "11               Natural Gas  Heavy\n",
      "12           Hybrid Gasoline  Heavy\n",
      "13           Hybrid Gasoline    Unk\n",
      "14           Hybrid Gasoline  Light\n",
      "15                 Flex-Fuel  Heavy\n",
      "16                 Flex-Fuel    Unk\n",
      "17                 Flex-Fuel  Light\n",
      "18          Battery Electric  Light\n",
      "19          Battery Electric  Heavy\n",
      "20          Battery Electric    Unk\n",
      "21            Plug-in Hybrid  Light\n",
      "22            Plug-in Hybrid    Unk\n",
      "23            Plug-in Hybrid  Heavy\n",
      "24        Hydrogen Fuel Cell  Light\n",
      "25        Hydrogen Fuel Cell  Heavy\n",
      "26        Hydrogen Fuel Cell    Unk\n",
      "27                  Gasoline  Light\n",
      "28                  Gasoline  Heavy\n",
      "29                  Gasoline    Unk\n",
      "30                     Other  Heavy\n",
      "31                     Other    Unk\n",
      "32                     Other  Light\n",
      "33  Diesel and Diesel Hybrid    Unk\n",
      "34  Diesel and Diesel Hybrid  Light\n",
      "35  Diesel and Diesel Hybrid  Heavy\n",
      "36               Natural Gas  Light\n",
      "37               Natural Gas  Heavy\n",
      "38               Natural Gas    Unk\n",
      "39           Hybrid Gasoline  Heavy\n",
      "40           Hybrid Gasoline    Unk\n",
      "41           Hybrid Gasoline  Light\n",
      "42                 Flex-Fuel    Unk\n",
      "43                 Flex-Fuel  Light\n",
      "44                 Flex-Fuel  Heavy\n",
      "45          Battery Electric  Light\n",
      "46          Battery Electric  Heavy\n",
      "47          Battery Electric    Unk\n",
      "48            Plug-in Hybrid  Heavy\n",
      "49            Plug-in Hybrid    Unk\n",
      "50            Plug-in Hybrid  Light\n",
      "51        Hydrogen Fuel Cell    Unk\n",
      "52        Hydrogen Fuel Cell  Light\n",
      "53        Hydrogen Fuel Cell  Heavy\n"
     ]
    }
   ],
   "source": [
    "# Assign 5 jobs to each person\n",
    "job_count = len(jobs)\n",
    "person_count = len(persons)\n",
    "for i in range(person_count):\n",
    "    person = persons[i]\n",
    "    job_start_index = i % job_count\n",
    "    person_jobs = jobs[job_start_index:job_start_index + job_count] + jobs[:job_start_index]\n",
    "    data.extend([[person, job] for job in person_jobs])\n",
    "\n",
    "# Create a DataFrame\n",
    "df = pd.DataFrame(data, columns=['Person', 'Job'])\n",
    "\n",
    "# Print the table\n",
    "print(df)"
   ]
  },
  {
   "cell_type": "code",
   "execution_count": 5,
   "id": "17ac2151",
   "metadata": {},
   "outputs": [
    {
     "name": "stdout",
     "output_type": "stream",
     "text": [
      "                Person    Job\n",
      "0             Gasoline    Unk\n",
      "1             Gasoline  Light\n",
      "2             Gasoline  Heavy\n",
      "3                Other  Heavy\n",
      "4                Other    Unk\n",
      "..                 ...    ...\n",
      "76      Plug-in Hybrid  Light\n",
      "77      Plug-in Hybrid    Unk\n",
      "78  Hydrogen Fuel Cell  Light\n",
      "79  Hydrogen Fuel Cell  Light\n",
      "80  Hydrogen Fuel Cell    Unk\n",
      "\n",
      "[81 rows x 2 columns]\n"
     ]
    }
   ],
   "source": [
    "# Assign 5 jobs to each person\n",
    "person_count = len(persons)\n",
    "job_count = len(jobs) - 2  # Exclude 'Light' and 'Unk'\n",
    "for i in range(person_count):\n",
    "    person = persons[i]\n",
    "    job_start_index = i % job_count\n",
    "    person_jobs = ['Light'] + jobs[job_start_index:job_start_index + job_count] + ['Unk']\n",
    "    data.extend([[person, job] for job in person_jobs])\n",
    "\n",
    "# Create a DataFrame\n",
    "df = pd.DataFrame(data, columns=['Person', 'Job'])\n",
    "\n",
    "# Print the table\n",
    "print(df)"
   ]
  },
  {
   "cell_type": "code",
   "execution_count": 6,
   "id": "8e5acedd",
   "metadata": {},
   "outputs": [],
   "source": [
    "# Create a DataFrame\n",
    "df = pd.DataFrame(data, columns=['Person', 'Job'])\n",
    "\n",
    "# Save the DataFrame as an Excel file\n",
    "df.to_excel('output.xlsx', index=False)"
   ]
  }
 ],
 "metadata": {
  "kernelspec": {
   "display_name": "Python 3 (ipykernel)",
   "language": "python",
   "name": "python3"
  },
  "language_info": {
   "codemirror_mode": {
    "name": "ipython",
    "version": 3
   },
   "file_extension": ".py",
   "mimetype": "text/x-python",
   "name": "python",
   "nbconvert_exporter": "python",
   "pygments_lexer": "ipython3",
   "version": "3.9.13"
  }
 },
 "nbformat": 4,
 "nbformat_minor": 5
}
