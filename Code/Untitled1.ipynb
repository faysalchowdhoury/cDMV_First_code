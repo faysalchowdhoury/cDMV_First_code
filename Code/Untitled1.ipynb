{
 "cells": [
  {
   "cell_type": "code",
   "execution_count": 20,
   "id": "834aa1ba",
   "metadata": {},
   "outputs": [
    {
     "ename": "SyntaxError",
     "evalue": "invalid syntax. Perhaps you forgot a comma? (1169654333.py, line 10)",
     "output_type": "error",
     "traceback": [
      "\u001b[1;36m  Cell \u001b[1;32mIn[20], line 10\u001b[1;36m\u001b[0m\n\u001b[1;33m    vehicles_by_Fuel_Duty = df.groupby([ 'Model Year(['2018'])','Make','Fuel']).sum()['Vehicles'].sort_values(ascending=False)\u001b[0m\n\u001b[1;37m                                         ^\u001b[0m\n\u001b[1;31mSyntaxError\u001b[0m\u001b[1;31m:\u001b[0m invalid syntax. Perhaps you forgot a comma?\n"
     ]
    }
   ],
   "source": [
    "import pandas as pd\n",
    "import numpy as np\n",
    "import matplotlib.pyplot as plt\n",
    "\n",
    "df = pd.read_csv('https://data.ca.gov/dataset/vehicle-fuel-type-count-by-zip-code/resource/9aa5b4c5-252c-4d68-b1be-ffe19a2f1d26/download/vehicle-fuel-type-count-by-zip-code.csv')\n",
    "\n",
    "\n",
    "\n",
    "# group the dataset by the 'Make' column and count the number of rows in each group\n",
    "vehicles_by_Fuel_Duty = df.groupby([ 'Model Year(['2018'])','Make','Fuel']).sum()['Vehicles'].sort_values(ascending=False)\n",
    "\n",
    "# print the results\n",
    "with pd.option_context('display.max_rows', None, 'display.max_columns', None):\n",
    "    print(vehicles_by_Fuel_Duty)\n",
    "    \n",
    "    # calculate the total number of vehicles\n",
    "df['Vehicles'].sum()"
   ]
  },
  {
   "cell_type": "code",
   "execution_count": 21,
   "id": "fa5dbc7a",
   "metadata": {},
   "outputs": [
    {
     "name": "stdout",
     "output_type": "stream",
     "text": [
      "Series([], Name: Vehicles, dtype: int64)\n",
      "Total number of vehicles in 2018: 0\n"
     ]
    },
    {
     "name": "stderr",
     "output_type": "stream",
     "text": [
      "C:\\Users\\schowdho\\AppData\\Local\\Temp\\ipykernel_2908\\2791992053.py:3: DtypeWarning: Columns (1) have mixed types. Specify dtype option on import or set low_memory=False.\n",
      "  df = pd.read_csv('https://data.ca.gov/dataset/vehicle-fuel-type-count-by-zip-code/resource/9aa5b4c5-252c-4d68-b1be-ffe19a2f1d26/download/vehicle-fuel-type-count-by-zip-code.csv')\n"
     ]
    }
   ],
   "source": [
    "import pandas as pd\n",
    "\n",
    "df = pd.read_csv('https://data.ca.gov/dataset/vehicle-fuel-type-count-by-zip-code/resource/9aa5b4c5-252c-4d68-b1be-ffe19a2f1d26/download/vehicle-fuel-type-count-by-zip-code.csv')\n",
    "\n",
    "# Filter the dataset to only include Model Year 2018\n",
    "df_2018 = df[df['Model Year'] == 2018]\n",
    "\n",
    "# Group the dataset by 'Make' and 'Fuel' columns and calculate the sum of 'Vehicles' in each group\n",
    "vehicles_by_Fuel_Duty = df_2018.groupby(['Make', 'Fuel'])['Vehicles'].sum().sort_values(ascending=False)\n",
    "\n",
    "# Print the results\n",
    "with pd.option_context('display.max_rows', None, 'display.max_columns', None):\n",
    "    print(vehicles_by_Fuel_Duty)\n",
    "\n",
    "# Calculate the total number of vehicles in the filtered DataFrame for Model Year 2018\n",
    "total_vehicles_2018 = df_2018['Vehicles'].sum()\n",
    "print(\"Total number of vehicles in 2018:\", total_vehicles_2018)\n",
    "\n"
   ]
  },
  {
   "cell_type": "code",
   "execution_count": null,
   "id": "679df357",
   "metadata": {},
   "outputs": [],
   "source": []
  }
 ],
 "metadata": {
  "kernelspec": {
   "display_name": "Python 3 (ipykernel)",
   "language": "python",
   "name": "python3"
  },
  "language_info": {
   "codemirror_mode": {
    "name": "ipython",
    "version": 3
   },
   "file_extension": ".py",
   "mimetype": "text/x-python",
   "name": "python",
   "nbconvert_exporter": "python",
   "pygments_lexer": "ipython3",
   "version": "3.10.9"
  }
 },
 "nbformat": 4,
 "nbformat_minor": 5
}
